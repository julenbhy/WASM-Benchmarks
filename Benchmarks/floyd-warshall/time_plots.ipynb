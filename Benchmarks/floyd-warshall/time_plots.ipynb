{
 "cells": [
  {
   "cell_type": "code",
   "execution_count": 1,
   "id": "035c8d06",
   "metadata": {
    "tags": []
   },
   "outputs": [],
   "source": [
    "import re\n",
    "import pandas as pd\n",
    "import numpy as np\n",
    "import matplotlib.pyplot as plt"
   ]
  },
  {
   "cell_type": "code",
   "execution_count": 2,
   "id": "2819bd86",
   "metadata": {
    "tags": []
   },
   "outputs": [],
   "source": [
    "def multitime_to_pd(list):\n",
    "    df = pd.DataFrame(columns = ['Mean', 'Std.Dev.', 'Min', 'Median', 'Max'], index = ['real', 'user', 'sys'])\n",
    "    for i in range (1,4):\n",
    "        row = re.sub(' +', ' ', list[i]).split(\" \")[:6]\n",
    "        df.loc[row[0]] = row[1:]        \n",
    "    return df\n",
    "\n",
    "\n",
    "def plot_times(df):\n",
    "    ax = df.plot(x='name', y='time', kind='bar')\n",
    "    ax.set_xlabel(None)\n",
    "    ax.set_ylabel('Execution time (s)')\n",
    "    ax.set_title('Execution Time Comparison')\n",
    "    \n",
    "    for i, v in enumerate(df['time']):\n",
    "        ax.text(i, v, str(v), ha='center', va='bottom', rotation=90)\n",
    "        \n",
    "    y_max = ax.get_ylim()\n",
    "    ax.set_ylim(0, y_max[1] + y_max[1]*0.3) #add 30% of top padding\n",
    "    plt.show()\n",
    "   "
   ]
  },
  {
   "cell_type": "code",
   "execution_count": 3,
   "id": "5d9331d7",
   "metadata": {
    "tags": []
   },
   "outputs": [
    {
     "ename": "IndexError",
     "evalue": "list index out of range",
     "output_type": "error",
     "traceback": [
      "\u001b[0;31m---------------------------------------------------------------------------\u001b[0m",
      "\u001b[0;31mIndexError\u001b[0m                                Traceback (most recent call last)",
      "Cell \u001b[0;32mIn[3], line 1\u001b[0m\n\u001b[0;32m----> 1\u001b[0m dfC\u001b[38;5;241m=\u001b[39m\u001b[43mmultitime_to_pd\u001b[49m\u001b[43m(\u001b[49m\u001b[38;5;28;43mopen\u001b[39;49m\u001b[43m(\u001b[49m\u001b[38;5;124;43m\"\u001b[39;49m\u001b[38;5;124;43m./compiled/C/c.time\u001b[39;49m\u001b[38;5;124;43m\"\u001b[39;49m\u001b[43m,\u001b[49m\u001b[43m \u001b[49m\u001b[38;5;124;43m\"\u001b[39;49m\u001b[38;5;124;43mr\u001b[39;49m\u001b[38;5;124;43m\"\u001b[39;49m\u001b[43m)\u001b[49m\u001b[38;5;241;43m.\u001b[39;49m\u001b[43mreadlines\u001b[49m\u001b[43m(\u001b[49m\u001b[43m)\u001b[49m\u001b[43m)\u001b[49m\n\u001b[1;32m      2\u001b[0m dfclang_wasmtime\u001b[38;5;241m=\u001b[39mmultitime_to_pd(\u001b[38;5;28mopen\u001b[39m(\u001b[38;5;124m\"\u001b[39m\u001b[38;5;124m./compiled/WASM/clang-wasmtime.time\u001b[39m\u001b[38;5;124m\"\u001b[39m, \u001b[38;5;124m\"\u001b[39m\u001b[38;5;124mr\u001b[39m\u001b[38;5;124m\"\u001b[39m)\u001b[38;5;241m.\u001b[39mreadlines())\n\u001b[1;32m      3\u001b[0m dfemcc_wasmtime\u001b[38;5;241m=\u001b[39mmultitime_to_pd(\u001b[38;5;28mopen\u001b[39m(\u001b[38;5;124m\"\u001b[39m\u001b[38;5;124m./compiled/WASM/emcc-wasmtime.time\u001b[39m\u001b[38;5;124m\"\u001b[39m, \u001b[38;5;124m\"\u001b[39m\u001b[38;5;124mr\u001b[39m\u001b[38;5;124m\"\u001b[39m)\u001b[38;5;241m.\u001b[39mreadlines())\n",
      "Cell \u001b[0;32mIn[2], line 4\u001b[0m, in \u001b[0;36mmultitime_to_pd\u001b[0;34m(list)\u001b[0m\n\u001b[1;32m      2\u001b[0m df \u001b[38;5;241m=\u001b[39m pd\u001b[38;5;241m.\u001b[39mDataFrame(columns \u001b[38;5;241m=\u001b[39m [\u001b[38;5;124m'\u001b[39m\u001b[38;5;124mMean\u001b[39m\u001b[38;5;124m'\u001b[39m, \u001b[38;5;124m'\u001b[39m\u001b[38;5;124mStd.Dev.\u001b[39m\u001b[38;5;124m'\u001b[39m, \u001b[38;5;124m'\u001b[39m\u001b[38;5;124mMin\u001b[39m\u001b[38;5;124m'\u001b[39m, \u001b[38;5;124m'\u001b[39m\u001b[38;5;124mMedian\u001b[39m\u001b[38;5;124m'\u001b[39m, \u001b[38;5;124m'\u001b[39m\u001b[38;5;124mMax\u001b[39m\u001b[38;5;124m'\u001b[39m], index \u001b[38;5;241m=\u001b[39m [\u001b[38;5;124m'\u001b[39m\u001b[38;5;124mreal\u001b[39m\u001b[38;5;124m'\u001b[39m, \u001b[38;5;124m'\u001b[39m\u001b[38;5;124muser\u001b[39m\u001b[38;5;124m'\u001b[39m, \u001b[38;5;124m'\u001b[39m\u001b[38;5;124msys\u001b[39m\u001b[38;5;124m'\u001b[39m])\n\u001b[1;32m      3\u001b[0m \u001b[38;5;28;01mfor\u001b[39;00m i \u001b[38;5;129;01min\u001b[39;00m \u001b[38;5;28mrange\u001b[39m (\u001b[38;5;241m1\u001b[39m,\u001b[38;5;241m4\u001b[39m):\n\u001b[0;32m----> 4\u001b[0m     row \u001b[38;5;241m=\u001b[39m re\u001b[38;5;241m.\u001b[39msub(\u001b[38;5;124m'\u001b[39m\u001b[38;5;124m +\u001b[39m\u001b[38;5;124m'\u001b[39m, \u001b[38;5;124m'\u001b[39m\u001b[38;5;124m \u001b[39m\u001b[38;5;124m'\u001b[39m, \u001b[38;5;28;43mlist\u001b[39;49m\u001b[43m[\u001b[49m\u001b[43mi\u001b[49m\u001b[43m]\u001b[49m)\u001b[38;5;241m.\u001b[39msplit(\u001b[38;5;124m\"\u001b[39m\u001b[38;5;124m \u001b[39m\u001b[38;5;124m\"\u001b[39m)[:\u001b[38;5;241m6\u001b[39m]\n\u001b[1;32m      5\u001b[0m     df\u001b[38;5;241m.\u001b[39mloc[row[\u001b[38;5;241m0\u001b[39m]] \u001b[38;5;241m=\u001b[39m row[\u001b[38;5;241m1\u001b[39m:]        \n\u001b[1;32m      6\u001b[0m \u001b[38;5;28;01mreturn\u001b[39;00m df\n",
      "\u001b[0;31mIndexError\u001b[0m: list index out of range"
     ]
    }
   ],
   "source": [
    "dfC=multitime_to_pd(open(\"./compiled/C/c.time\", \"r\").readlines())\n",
    "dfclang_wasmtime=multitime_to_pd(open(\"./compiled/WASM/clang-wasmtime.time\", \"r\").readlines())\n",
    "dfemcc_wasmtime=multitime_to_pd(open(\"./compiled/WASM/emcc-wasmtime.time\", \"r\").readlines())\n",
    "dfclang_wasmedge=multitime_to_pd(open(\"./compiled/WASM/clang-wasmedge.time\", \"r\").readlines())\n",
    "dfemcc_wasmedge=multitime_to_pd(open(\"./compiled/WASM/emcc-wasmedge.time\", \"r\").readlines())\n",
    "dfclang_wamr=multitime_to_pd(open(\"./compiled/WASM/clang-wamr.time\", \"r\").readlines())\n",
    "dfemcc_wamr=multitime_to_pd(open(\"./compiled/WASM/emcc-wamr.time\", \"r\").readlines())\n"
   ]
  },
  {
   "cell_type": "code",
   "execution_count": null,
   "id": "655d107c",
   "metadata": {
    "tags": []
   },
   "outputs": [],
   "source": [
    "# Extract the execution time values that you want to plot\n",
    "name_values = ['C', 'clang-wasmtime', 'emcc-wasmtime', 'clang-wasmedge', 'emcc-wasmedge', 'clang-wamr', 'emcc-wamr']\n",
    "\n",
    "time_values = [float(dfC.loc['real', 'Mean']), \n",
    "               float(dfclang_wasmtime.loc['real', 'Mean']), float(dfemcc_wasmtime.loc['real', 'Mean']), \n",
    "               float(dfclang_wasmedge.loc['real', 'Mean']), float(dfemcc_wasmedge.loc['real', 'Mean']), \n",
    "               float(dfclang_wamr.loc['real', 'Mean']), float(dfemcc_wamr.loc['real', 'Mean'])]\n",
    "\n",
    "# Create a new dataframe to store the extracted values\n",
    "df = pd.DataFrame({'name': name_values, 'time': time_values})\n",
    "df"
   ]
  },
  {
   "cell_type": "code",
   "execution_count": null,
   "id": "6b7915ea",
   "metadata": {
    "tags": []
   },
   "outputs": [],
   "source": [
    "plot_times(df)"
   ]
  },
  {
   "cell_type": "code",
   "execution_count": null,
   "id": "c3c5b7a3",
   "metadata": {},
   "outputs": [],
   "source": []
  }
 ],
 "metadata": {
  "kernelspec": {
   "display_name": "Python 3 (ipykernel)",
   "language": "python",
   "name": "python3"
  },
  "language_info": {
   "codemirror_mode": {
    "name": "ipython",
    "version": 3
   },
   "file_extension": ".py",
   "mimetype": "text/x-python",
   "name": "python",
   "nbconvert_exporter": "python",
   "pygments_lexer": "ipython3",
   "version": "3.10.6"
  }
 },
 "nbformat": 4,
 "nbformat_minor": 5
}
