{
 "cells": [
  {
   "cell_type": "code",
   "execution_count": 1,
   "id": "ec364856-7b3e-4303-a734-3f547f705236",
   "metadata": {
    "tags": []
   },
   "outputs": [],
   "source": [
    "import re\n",
    "import pandas as pd\n",
    "import numpy as np\n",
    "import matplotlib.pyplot as plt"
   ]
  },
  {
   "cell_type": "code",
   "execution_count": 2,
   "id": "9c2ab670-2b53-4548-92cb-4006224d311f",
   "metadata": {
    "tags": []
   },
   "outputs": [],
   "source": [
    "def multitime_to_pd(list):\n",
    "    df = pd.DataFrame(columns = ['Mean', 'Std.Dev.', 'Min', 'Median', 'Max'], index = ['real', 'user', 'sys'])\n",
    "    for i in range (1,4):\n",
    "        row = re.sub(' +', ' ', list[i]).split(\" \")[:6]\n",
    "        df.loc[row[0]] = row[1:]        \n",
    "    return df\n",
    "\n",
    "\n",
    "def plot_times(df):\n",
    "    ax = df.plot(x='name', y='time', kind='bar')\n",
    "    ax.set_xlabel(None)\n",
    "    ax.set_ylabel('Execution time (s)')\n",
    "    ax.set_title('Execution Time Comparison')\n",
    "    \n",
    "    for i, v in enumerate(df['time']):\n",
    "        ax.text(i, v, str(v), ha='center', va='bottom', rotation=90)\n",
    "        \n",
    "    y_max = ax.get_ylim()\n",
    "    ax.set_ylim(0, y_max[1] + y_max[1]*0.3) #add 30% of top padding\n",
    "    plt.show()\n",
    "   "
   ]
  },
  {
   "cell_type": "code",
   "execution_count": 3,
   "id": "db2a8b8c-13c0-446e-bb95-b2de5e46d626",
   "metadata": {
    "tags": []
   },
   "outputs": [],
   "source": [
    "dfC=multitime_to_pd(open(\"./compiled/C/c.time\", \"r\").readlines())\n",
    "dfclang_wasmtime=multitime_to_pd(open(\"./compiled/WASM/clang-wasmtime.time\", \"r\").readlines())\n",
    "#dfemcc_wasmtime=multitime_to_pd(open(\"./compiled/WASM/emcc-wasmtime.time\", \"r\").readlines())\n",
    "#dfclang_wasmedge=multitime_to_pd(open(\"./compiled/WASM/clang-wasmedge.time\", \"r\").readlines())\n",
    "#dfemcc_wasmedge=multitime_to_pd(open(\"./compiled/WASM/emcc-wasmedge.time\", \"r\").readlines())\n",
    "#dfclang_wamr=multitime_to_pd(open(\"./compiled/WASM/clang-wamr.time\", \"r\").readlines())\n",
    "#dfemcc_wamr=multitime_to_pd(open(\"./compiled/WASM/emcc-wamr.time\", \"r\").readlines())\n"
   ]
  },
  {
   "cell_type": "code",
   "execution_count": 4,
   "id": "b2b93905-f2fe-4799-9e5a-284d69541ae9",
   "metadata": {
    "tags": []
   },
   "outputs": [
    {
     "data": {
      "text/html": [
       "<div>\n",
       "<style scoped>\n",
       "    .dataframe tbody tr th:only-of-type {\n",
       "        vertical-align: middle;\n",
       "    }\n",
       "\n",
       "    .dataframe tbody tr th {\n",
       "        vertical-align: top;\n",
       "    }\n",
       "\n",
       "    .dataframe thead th {\n",
       "        text-align: right;\n",
       "    }\n",
       "</style>\n",
       "<table border=\"1\" class=\"dataframe\">\n",
       "  <thead>\n",
       "    <tr style=\"text-align: right;\">\n",
       "      <th></th>\n",
       "      <th>name</th>\n",
       "      <th>time</th>\n",
       "    </tr>\n",
       "  </thead>\n",
       "  <tbody>\n",
       "    <tr>\n",
       "      <th>0</th>\n",
       "      <td>C</td>\n",
       "      <td>3.606</td>\n",
       "    </tr>\n",
       "    <tr>\n",
       "      <th>1</th>\n",
       "      <td>clang-wasmtime</td>\n",
       "      <td>4.200</td>\n",
       "    </tr>\n",
       "    <tr>\n",
       "      <th>2</th>\n",
       "      <td>emcc-wasmtime</td>\n",
       "      <td>0.000</td>\n",
       "    </tr>\n",
       "    <tr>\n",
       "      <th>3</th>\n",
       "      <td>clang-wasmedge</td>\n",
       "      <td>0.000</td>\n",
       "    </tr>\n",
       "    <tr>\n",
       "      <th>4</th>\n",
       "      <td>emcc-wasmedge</td>\n",
       "      <td>0.000</td>\n",
       "    </tr>\n",
       "    <tr>\n",
       "      <th>5</th>\n",
       "      <td>clang-wamr</td>\n",
       "      <td>0.000</td>\n",
       "    </tr>\n",
       "    <tr>\n",
       "      <th>6</th>\n",
       "      <td>emcc-wamr</td>\n",
       "      <td>0.000</td>\n",
       "    </tr>\n",
       "  </tbody>\n",
       "</table>\n",
       "</div>"
      ],
      "text/plain": [
       "             name   time\n",
       "0               C  3.606\n",
       "1  clang-wasmtime  4.200\n",
       "2   emcc-wasmtime  0.000\n",
       "3  clang-wasmedge  0.000\n",
       "4   emcc-wasmedge  0.000\n",
       "5      clang-wamr  0.000\n",
       "6       emcc-wamr  0.000"
      ]
     },
     "execution_count": 4,
     "metadata": {},
     "output_type": "execute_result"
    }
   ],
   "source": [
    "# Extract the execution time values that you want to plot\n",
    "name_values = ['C', 'clang-wasmtime', 'emcc-wasmtime', 'clang-wasmedge', 'emcc-wasmedge', 'clang-wamr', 'emcc-wamr']\n",
    "\n",
    "time_values = [float(dfC.loc['real', 'Mean']), \n",
    "               float(dfclang_wasmtime.loc['real', 'Mean']), 0, \n",
    "               0, 0, \n",
    "               0, 0]\n",
    "\n",
    "# Create a new dataframe to store the extracted values\n",
    "df = pd.DataFrame({'name': name_values, 'time': time_values})\n",
    "df"
   ]
  },
  {
   "cell_type": "code",
   "execution_count": 5,
   "id": "57b50043-b733-4d49-827f-ab53e737660b",
   "metadata": {
    "tags": []
   },
   "outputs": [
    {
     "data": {
      "image/png": "[encoded data removed]",
      "text/plain": [
       "<Figure size 640x480 with 1 Axes>"
      ]
     },
     "metadata": {},
     "output_type": "display_data"
    }
   ],
   "source": [
    "plot_times(df)"
   ]
  },
  {
   "cell_type": "code",
   "execution_count": null,
   "id": "2e8186f6-872d-4ea9-b671-d75efa2dc0d7",
   "metadata": {},
   "outputs": [],
   "source": []
  }
 ],
 "metadata": {
  "kernelspec": {
   "display_name": "Python 3 (ipykernel)",
   "language": "python",
   "name": "python3"
  },
  "language_info": {
   "codemirror_mode": {
    "name": "ipython",
    "version": 3
   },
   "file_extension": ".py",
   "mimetype": "text/x-python",
   "name": "python",
   "nbconvert_exporter": "python",
   "pygments_lexer": "ipython3",
   "version": "3.10.6"
  }
 },
 "nbformat": 4,
 "nbformat_minor": 5
}
