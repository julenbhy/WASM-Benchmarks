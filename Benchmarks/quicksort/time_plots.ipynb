{
 "cells": [
  {
   "cell_type": "code",
   "execution_count": 1,
   "id": "82f43390",
   "metadata": {
    "execution": {
     "iopub.execute_input": "2023-07-06T07:33:28.982945Z",
     "iopub.status.busy": "2023-07-06T07:33:28.982650Z",
     "iopub.status.idle": "2023-07-06T07:33:29.611738Z",
     "shell.execute_reply": "2023-07-06T07:33:29.610571Z"
    },
    "tags": []
   },
   "outputs": [],
   "source": [
    "import re\n",
    "import pandas as pd\n",
    "import pandas as pd\n",
    "import numpy as np\n",
    "import matplotlib.pyplot as plt"
   ]
  },
  {
   "cell_type": "code",
   "execution_count": 2,
   "id": "595517c1",
   "metadata": {
    "execution": {
     "iopub.execute_input": "2023-07-06T07:33:29.615868Z",
     "iopub.status.busy": "2023-07-06T07:33:29.615522Z",
     "iopub.status.idle": "2023-07-06T07:33:29.622843Z",
     "shell.execute_reply": "2023-07-06T07:33:29.621852Z"
    },
    "tags": []
   },
   "outputs": [],
   "source": [
    "def multitime_to_pd(list):\n",
    "    df = pd.DataFrame(columns = ['Mean', 'Std.Dev.', 'Min', 'Median', 'Max'], index = ['real', 'user', 'sys'])\n",
    "    for i in range (1,4):\n",
    "        row = re.sub(' +', ' ', list[i]).split(\" \")[:6]\n",
    "        df.loc[row[0]] = row[1:]        \n",
    "    return df\n",
    "\n",
    "\n",
    "def plot_times(df):\n",
    "    ax = df.plot(x='name', y='time', kind='bar')\n",
    "    ax.set_xlabel(None)\n",
    "    ax.set_ylabel('Execution time (s)')\n",
    "    ax.set_title('Execution Time Comparison')\n",
    "    \n",
    "    for i, v in enumerate(df['time']):\n",
    "        ax.text(i, v, str(v), ha='center', va='bottom', rotation=90)\n",
    "        \n",
    "    y_max = ax.get_ylim()\n",
    "    ax.set_ylim(0, y_max[1] + y_max[1]*0.3) #add 30% of top padding\n",
    "    plt.show()\n",
    "   "
   ]
  },
  {
   "cell_type": "code",
   "execution_count": 3,
   "id": "0ea92bd4",
   "metadata": {
    "execution": {
     "iopub.execute_input": "2023-07-06T07:33:29.626109Z",
     "iopub.status.busy": "2023-07-06T07:33:29.625873Z",
     "iopub.status.idle": "2023-07-06T07:33:29.641197Z",
     "shell.execute_reply": "2023-07-06T07:33:29.640282Z"
    },
    "tags": []
   },
   "outputs": [],
   "source": [
    "dfC=multitime_to_pd(open(\"./compiled/C/c.time\", \"r\").readlines())\n",
    "dfC32=multitime_to_pd(open(\"./compiled/C/c32.time\", \"r\").readlines())\n",
    "dfclang_wasmtime=multitime_to_pd(open(\"./compiled/WASM/clang-wasmtime.time\", \"r\").readlines())\n",
    "dfemcc_wasmtime=multitime_to_pd(open(\"./compiled/WASM/emcc-wasmtime.time\", \"r\").readlines())\n",
    "dfclang_wasmedge=multitime_to_pd(open(\"./compiled/WASM/clang-wasmedge.time\", \"r\").readlines())\n",
    "dfemcc_wasmedge=multitime_to_pd(open(\"./compiled/WASM/emcc-wasmedge.time\", \"r\").readlines())\n",
    "dfclang_wamr=multitime_to_pd(open(\"./compiled/WASM/clang-iwasm.time\", \"r\").readlines())\n",
    "dfemcc_wamr=multitime_to_pd(open(\"./compiled/WASM/emcc-iwasm.time\", \"r\").readlines())\n"
   ]
  },
  {
   "cell_type": "code",
   "execution_count": 4,
   "id": "c5351fd8",
   "metadata": {
    "execution": {
     "iopub.execute_input": "2023-07-06T07:33:29.644364Z",
     "iopub.status.busy": "2023-07-06T07:33:29.643872Z",
     "iopub.status.idle": "2023-07-06T07:33:29.657838Z",
     "shell.execute_reply": "2023-07-06T07:33:29.656957Z"
    },
    "tags": []
   },
   "outputs": [
    {
     "data": {
      "text/html": [
       "<div>\n",
       "<style scoped>\n",
       "    .dataframe tbody tr th:only-of-type {\n",
       "        vertical-align: middle;\n",
       "    }\n",
       "\n",
       "    .dataframe tbody tr th {\n",
       "        vertical-align: top;\n",
       "    }\n",
       "\n",
       "    .dataframe thead th {\n",
       "        text-align: right;\n",
       "    }\n",
       "</style>\n",
       "<table border=\"1\" class=\"dataframe\">\n",
       "  <thead>\n",
       "    <tr style=\"text-align: right;\">\n",
       "      <th></th>\n",
       "      <th>name</th>\n",
       "      <th>time</th>\n",
       "    </tr>\n",
       "  </thead>\n",
       "  <tbody>\n",
       "    <tr>\n",
       "      <th>0</th>\n",
       "      <td>C</td>\n",
       "      <td>0.157</td>\n",
       "    </tr>\n",
       "    <tr>\n",
       "      <th>1</th>\n",
       "      <td>C32</td>\n",
       "      <td>0.170</td>\n",
       "    </tr>\n",
       "    <tr>\n",
       "      <th>2</th>\n",
       "      <td>clang-wasmtime</td>\n",
       "      <td>0.196</td>\n",
       "    </tr>\n",
       "    <tr>\n",
       "      <th>3</th>\n",
       "      <td>emcc-wasmtime</td>\n",
       "      <td>0.187</td>\n",
       "    </tr>\n",
       "    <tr>\n",
       "      <th>4</th>\n",
       "      <td>clang-wasmedge</td>\n",
       "      <td>3.084</td>\n",
       "    </tr>\n",
       "    <tr>\n",
       "      <th>5</th>\n",
       "      <td>emcc-wasmedge</td>\n",
       "      <td>2.700</td>\n",
       "    </tr>\n",
       "    <tr>\n",
       "      <th>6</th>\n",
       "      <td>clang-wamr</td>\n",
       "      <td>0.935</td>\n",
       "    </tr>\n",
       "    <tr>\n",
       "      <th>7</th>\n",
       "      <td>emcc-wamr</td>\n",
       "      <td>0.979</td>\n",
       "    </tr>\n",
       "  </tbody>\n",
       "</table>\n",
       "</div>"
      ],
      "text/plain": [
       "             name   time\n",
       "0               C  0.157\n",
       "1             C32  0.170\n",
       "2  clang-wasmtime  0.196\n",
       "3   emcc-wasmtime  0.187\n",
       "4  clang-wasmedge  3.084\n",
       "5   emcc-wasmedge  2.700\n",
       "6      clang-wamr  0.935\n",
       "7       emcc-wamr  0.979"
      ]
     },
     "execution_count": 4,
     "metadata": {},
     "output_type": "execute_result"
    }
   ],
   "source": [
    "# Extract the execution time values that you want to plot\n",
    "name_values = ['C', 'C32', 'clang-wasmtime', 'emcc-wasmtime', 'clang-wasmedge', 'emcc-wasmedge', 'clang-wamr', 'emcc-wamr']\n",
    "\n",
    "time_values = [float(dfC.loc['real', 'Mean']), float(dfC32.loc['real', 'Mean']), \n",
    "               float(dfclang_wasmtime.loc['real', 'Mean']), float(dfemcc_wasmtime.loc['real', 'Mean']), \n",
    "               float(dfclang_wasmedge.loc['real', 'Mean']), float(dfemcc_wasmedge.loc['real', 'Mean']), \n",
    "               float(dfclang_wamr.loc['real', 'Mean']), float(dfemcc_wamr.loc['real', 'Mean'])]\n",
    "\n",
    "# Create a new dataframe to store the extracted values\n",
    "df = pd.DataFrame({'name': name_values, 'time': time_values})\n",
    "df"
   ]
  },
  {
   "cell_type": "code",
   "execution_count": 5,
   "id": "2b286928",
   "metadata": {
    "execution": {
     "iopub.execute_input": "2023-07-06T07:33:29.660875Z",
     "iopub.status.busy": "2023-07-06T07:33:29.660655Z",
     "iopub.status.idle": "2023-07-06T07:33:29.894346Z",
     "shell.execute_reply": "2023-07-06T07:33:29.893637Z"
    },
    "tags": []
   },
   "outputs": [
    {
     "data": {
      "image/png": "[encoded data removed]",
      "text/plain": [
       "<Figure size 640x480 with 1 Axes>"
      ]
     },
     "metadata": {},
     "output_type": "display_data"
    }
   ],
   "source": [
    "plot_times(df)"
   ]
  },
  {
   "cell_type": "code",
   "execution_count": null,
   "id": "cfd1a81c",
   "metadata": {},
   "outputs": [],
   "source": []
  }
 ],
 "metadata": {
  "kernelspec": {
   "display_name": "Python 3 (ipykernel)",
   "language": "python",
   "name": "python3"
  },
  "language_info": {
   "codemirror_mode": {
    "name": "ipython",
    "version": 3
   },
   "file_extension": ".py",
   "mimetype": "text/x-python",
   "name": "python",
   "nbconvert_exporter": "python",
   "pygments_lexer": "ipython3",
   "version": "3.10.6"
  }
 },
 "nbformat": 4,
 "nbformat_minor": 5
}
