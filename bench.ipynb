{
 "cells": [
  {
   "cell_type": "code",
   "execution_count": 1,
   "id": "ec364856-7b3e-4303-a734-3f547f705236",
   "metadata": {
    "tags": []
   },
   "outputs": [],
   "source": [
    "import re\n",
    "import pandas as pd\n",
    "import numpy as np\n",
    "import matplotlib.pyplot as plt"
   ]
  },
  {
   "cell_type": "code",
   "execution_count": 2,
   "id": "9c2ab670-2b53-4548-92cb-4006224d311f",
   "metadata": {
    "tags": []
   },
   "outputs": [],
   "source": [
    "def multitime_to_pd(list):\n",
    "    df = pd.DataFrame(columns = ['Mean', 'Std.Dev.', 'Min', 'Median', 'Max'], index = ['real', 'user', 'sys'])\n",
    "    for i in range (1,4):\n",
    "        row = re.sub(' +', ' ', list[i]).split(\" \")[:6]\n",
    "        df.loc[row[0]] = row[1:]        \n",
    "    return df\n",
    "\n",
    "def plot_times(df):\n",
    "    ax = df.plot(x='name', y='time', kind='bar')\n",
    "    ax.set_xlabel(None)\n",
    "    ax.set_ylabel('Execution time (s)')\n",
    "    ax.set_title('Execution Time Comparison')\n",
    "    for i, v in enumerate(df['time']):\n",
    "        ax.text(i, v, str(v), ha='center', va='bottom', rotation=90)\n",
    "    plt.show()\n",
    "    \n",
    "    \n",
    "def plot_grouped(groups, times):\n",
    "    # place group labels\n",
    "    x = np.arange(len(groups))  # the label locations\n",
    "    width = 0.15  # the width of the bars\n",
    "    offset = -0.15\n",
    "\n",
    "    fig, ax = plt.subplots()\n",
    "\n",
    "    for attribute, measurement in times.items():\n",
    "        rects = ax.bar(x + offset, measurement, width, label=attribute)\n",
    "        ax.bar_label(rects, padding=3, rotation=90)\n",
    "        offset += width\n",
    "\n",
    "    # Add some text for labels, title and custom x-axis tick labels, etc.\n",
    "    ax.set_ylabel('Execution time (s)')\n",
    "    ax.set_title('Execution Time Comparison')\n",
    "    ax.set_xticks(x + 0.1, groups)\n",
    "    ax.legend(loc='upper left', ncol=3)\n",
    "    #ax.set_ylim(0, 6)\n",
    "\n",
    "    plt.show()"
   ]
  },
  {
   "cell_type": "code",
   "execution_count": 3,
   "id": "db2a8b8c-13c0-446e-bb95-b2de5e46d626",
   "metadata": {
    "tags": []
   },
   "outputs": [
    {
     "ename": "FileNotFoundError",
     "evalue": "[Errno 2] No such file or directory: './Benchmarks/Caesar-cipher/Small_dataset/C/time.txt'",
     "output_type": "error",
     "traceback": [
      "\u001b[0;31m---------------------------------------------------------------------------\u001b[0m",
      "\u001b[0;31mFileNotFoundError\u001b[0m                         Traceback (most recent call last)",
      "Cell \u001b[0;32mIn[3], line 1\u001b[0m\n\u001b[0;32m----> 1\u001b[0m dfCsmall\u001b[38;5;241m=\u001b[39mmultitime_to_pd(\u001b[38;5;28;43mopen\u001b[39;49m\u001b[43m(\u001b[49m\u001b[38;5;124;43m\"\u001b[39;49m\u001b[38;5;124;43m./Benchmarks/Caesar-cipher/Small_dataset/C/time.txt\u001b[39;49m\u001b[38;5;124;43m\"\u001b[39;49m\u001b[43m,\u001b[49m\u001b[43m \u001b[49m\u001b[38;5;124;43m\"\u001b[39;49m\u001b[38;5;124;43mr\u001b[39;49m\u001b[38;5;124;43m\"\u001b[39;49m\u001b[43m)\u001b[49m\u001b[38;5;241m.\u001b[39mreadlines())\n\u001b[1;32m      2\u001b[0m dfCmedium\u001b[38;5;241m=\u001b[39mmultitime_to_pd(\u001b[38;5;28mopen\u001b[39m(\u001b[38;5;124m\"\u001b[39m\u001b[38;5;124m./Benchmarks/Caesar-cipher/Medium_dataset/C/time.txt\u001b[39m\u001b[38;5;124m\"\u001b[39m, \u001b[38;5;124m\"\u001b[39m\u001b[38;5;124mr\u001b[39m\u001b[38;5;124m\"\u001b[39m)\u001b[38;5;241m.\u001b[39mreadlines())\n\u001b[1;32m      3\u001b[0m dfClarge\u001b[38;5;241m=\u001b[39mmultitime_to_pd(\u001b[38;5;28mopen\u001b[39m(\u001b[38;5;124m\"\u001b[39m\u001b[38;5;124m./Benchmarks/Caesar-cipher/Large_dataset/C/time.txt\u001b[39m\u001b[38;5;124m\"\u001b[39m, \u001b[38;5;124m\"\u001b[39m\u001b[38;5;124mr\u001b[39m\u001b[38;5;124m\"\u001b[39m)\u001b[38;5;241m.\u001b[39mreadlines())\n",
      "File \u001b[0;32m~/.local/lib/python3.10/site-packages/IPython/core/interactiveshell.py:284\u001b[0m, in \u001b[0;36m_modified_open\u001b[0;34m(file, *args, **kwargs)\u001b[0m\n\u001b[1;32m    277\u001b[0m \u001b[38;5;28;01mif\u001b[39;00m file \u001b[38;5;129;01min\u001b[39;00m {\u001b[38;5;241m0\u001b[39m, \u001b[38;5;241m1\u001b[39m, \u001b[38;5;241m2\u001b[39m}:\n\u001b[1;32m    278\u001b[0m     \u001b[38;5;28;01mraise\u001b[39;00m \u001b[38;5;167;01mValueError\u001b[39;00m(\n\u001b[1;32m    279\u001b[0m         \u001b[38;5;124mf\u001b[39m\u001b[38;5;124m\"\u001b[39m\u001b[38;5;124mIPython won\u001b[39m\u001b[38;5;124m'\u001b[39m\u001b[38;5;124mt let you open fd=\u001b[39m\u001b[38;5;132;01m{\u001b[39;00mfile\u001b[38;5;132;01m}\u001b[39;00m\u001b[38;5;124m by default \u001b[39m\u001b[38;5;124m\"\u001b[39m\n\u001b[1;32m    280\u001b[0m         \u001b[38;5;124m\"\u001b[39m\u001b[38;5;124mas it is likely to crash IPython. If you know what you are doing, \u001b[39m\u001b[38;5;124m\"\u001b[39m\n\u001b[1;32m    281\u001b[0m         \u001b[38;5;124m\"\u001b[39m\u001b[38;5;124myou can use builtins\u001b[39m\u001b[38;5;124m'\u001b[39m\u001b[38;5;124m open.\u001b[39m\u001b[38;5;124m\"\u001b[39m\n\u001b[1;32m    282\u001b[0m     )\n\u001b[0;32m--> 284\u001b[0m \u001b[38;5;28;01mreturn\u001b[39;00m \u001b[43mio_open\u001b[49m\u001b[43m(\u001b[49m\u001b[43mfile\u001b[49m\u001b[43m,\u001b[49m\u001b[43m \u001b[49m\u001b[38;5;241;43m*\u001b[39;49m\u001b[43margs\u001b[49m\u001b[43m,\u001b[49m\u001b[43m \u001b[49m\u001b[38;5;241;43m*\u001b[39;49m\u001b[38;5;241;43m*\u001b[39;49m\u001b[43mkwargs\u001b[49m\u001b[43m)\u001b[49m\n",
      "\u001b[0;31mFileNotFoundError\u001b[0m: [Errno 2] No such file or directory: './Benchmarks/Caesar-cipher/Small_dataset/C/time.txt'"
     ]
    }
   ],
   "source": [
    "dfCsmall=multitime_to_pd(open(\"./Benchmarks/Caesar-cipher/Small_dataset/C/time.txt\", \"r\").readlines())\n",
    "dfCmedium=multitime_to_pd(open(\"./Benchmarks/Caesar-cipher/Medium_dataset/C/time.txt\", \"r\").readlines())\n",
    "dfClarge=multitime_to_pd(open(\"./Benchmarks/Caesar-cipher/Large_dataset/C/time.txt\", \"r\").readlines())\n",
    "\n",
    "dfWASMsmall=multitime_to_pd(open(\"./Benchmarks/Caesar-cipher/Small_dataset/WASM/time.txt\", \"r\").readlines())\n",
    "dfWASMmedium=multitime_to_pd(open(\"./Benchmarks/Caesar-cipher/Medium_dataset/WASM/time.txt\", \"r\").readlines())\n",
    "dfWASMlarge=multitime_to_pd(open(\"./Benchmarks/Caesar-cipher/Large_dataset/WASM/time.txt\", \"r\").readlines())\n",
    "\n",
    "dfJSsmall=multitime_to_pd(open(\"./Benchmarks/Caesar-cipher/Small_dataset/WASM+JS/time.txt\", \"r\").readlines())\n",
    "dfJSmedium=multitime_to_pd(open(\"./Benchmarks/Caesar-cipher/Medium_dataset/WASM+JS/time.txt\", \"r\").readlines())\n",
    "dfJSlarge=multitime_to_pd(open(\"./Benchmarks/Caesar-cipher/Large_dataset/WASM+JS/time.txt\", \"r\").readlines())\n",
    "\n",
    "dfDockerCsmall=multitime_to_pd(open(\"./Benchmarks/Caesar-cipher/Small_dataset/Docker+C/time.txt\", \"r\").readlines())\n",
    "dfDockerCmedium=multitime_to_pd(open(\"./Benchmarks/Caesar-cipher/Medium_dataset/Docker+C/time.txt\", \"r\").readlines())\n",
    "dfDockerClarge=multitime_to_pd(open(\"./Benchmarks/Caesar-cipher/Large_dataset/Docker+C/time.txt\", \"r\").readlines())\n",
    "\n",
    "dfDockerRuntimesmall=multitime_to_pd(open(\"./Benchmarks/Caesar-cipher/Small_dataset/Docker+runtime/time.txt\", \"r\").readlines())\n",
    "dfDockerRuntimemedium=multitime_to_pd(open(\"./Benchmarks/Caesar-cipher/Medium_dataset/Docker+runtime/time.txt\", \"r\").readlines())\n",
    "dfDockerRuntimelarge=multitime_to_pd(open(\"./Benchmarks/Caesar-cipher/Large_dataset/Docker+runtime/time.txt\", \"r\").readlines())\n",
    "\n",
    "dfDockerWASMsmall=multitime_to_pd(open(\"./Benchmarks/Caesar-cipher/Small_dataset/Docker+WASM/time.txt\", \"r\").readlines())\n",
    "dfDockerWASMmedium=multitime_to_pd(open(\"./Benchmarks/Caesar-cipher/Medium_dataset/Docker+WASM/time.txt\", \"r\").readlines())\n",
    "dfDockerWASMlarge=multitime_to_pd(open(\"./Benchmarks/Caesar-cipher/Large_dataset/Docker+WASM/time.txt\", \"r\").readlines())"
   ]
  },
  {
   "cell_type": "code",
   "execution_count": null,
   "id": "b2b93905-f2fe-4799-9e5a-284d69541ae9",
   "metadata": {
    "tags": []
   },
   "outputs": [],
   "source": [
    "# Extract the execution time values that you want to plot\n",
    "name_values = ['Csmall', 'Cmedium', 'Clarge', \n",
    "               'WASMsmall', 'WASMmedium', 'WASMlarge', \n",
    "               'JSsmall', 'JSmedium', 'JSlarge', \n",
    "               'DockerCsmall', 'DockerCmedium', 'DockerClarge',\n",
    "               'DockerRuntimesmall', 'DockerRuntimemedium', 'DockerRuntimelarge',\n",
    "               'DockerWASMsmall', 'DockerWASMmedium', 'DockerWASMlarge',\n",
    "              ]\n",
    "\n",
    "time_values = [float(dfCsmall.loc['real', 'Mean']), float(dfCmedium.loc['real', 'Mean']), float(dfClarge.loc['real', 'Mean']), \n",
    "               float(dfWASMsmall.loc['real', 'Mean']), float(dfWASMmedium.loc['real', 'Mean']), float(dfWASMlarge.loc['real', 'Mean']),\n",
    "               float(dfJSsmall.loc['real', 'Mean']), float(dfJSmedium.loc['real', 'Mean']), float(dfJSlarge.loc['real', 'Mean']),\n",
    "               float(dfDockerCsmall.loc['real', 'Mean']), float(dfDockerCmedium.loc['real', 'Mean']), float(dfDockerClarge.loc['real', 'Mean']),\n",
    "               float(dfDockerRuntimesmall.loc['real', 'Mean']), float(dfDockerRuntimemedium.loc['real', 'Mean']), float(dfDockerRuntimelarge.loc['real', 'Mean']),\n",
    "               float(dfDockerWASMsmall.loc['real', 'Mean']), float(dfDockerWASMmedium.loc['real', 'Mean']), float(dfDockerWASMlarge.loc['real', 'Mean']),\n",
    "              ]\n",
    "\n",
    "# Create a new dataframe to store the extracted values\n",
    "df = pd.DataFrame({'name': name_values, 'time': time_values})\n",
    "df"
   ]
  },
  {
   "cell_type": "code",
   "execution_count": null,
   "id": "57b50043-b733-4d49-827f-ab53e737660b",
   "metadata": {
    "tags": []
   },
   "outputs": [],
   "source": [
    "groups = (\"Small\", \"Medium\", \"Large\")\n",
    "times = {\n",
    "    'C': (float(dfCsmall.loc['real', 'Mean']), float(dfCmedium.loc['real', 'Mean']), float(dfClarge.loc['real', 'Mean'])),\n",
    "    'WASM': (float(dfWASMsmall.loc['real', 'Mean']), float(dfWASMmedium.loc['real', 'Mean']), float(dfWASMlarge.loc['real', 'Mean'])),\n",
    "    'Docker+C': (float(dfDockerCsmall.loc['real', 'Mean']), float(dfDockerCmedium.loc['real', 'Mean']), float(dfDockerClarge.loc['real', 'Mean'])),\n",
    "    'Docker+WASM': (float(dfDockerWASMsmall.loc['real', 'Mean']), float(dfDockerWASMmedium.loc['real', 'Mean']), float(dfDockerWASMlarge.loc['real', 'Mean'])),\n",
    "    'StandardDocker+Runtime': (float(dfDockerRuntimesmall.loc['real', 'Mean']), float(dfDockerRuntimemedium.loc['real', 'Mean']), float(dfDockerRuntimelarge.loc['real', 'Mean'])),\n",
    "    'WASM+JS': (float(dfJSsmall.loc['real', 'Mean']), float(dfJSmedium.loc['real', 'Mean']), float(dfJSlarge.loc['real', 'Mean'])),\n",
    "    }\n",
    "\n",
    "plot_times(df)\n",
    "\n",
    "plot_grouped(groups, times)\n"
   ]
  },
  {
   "cell_type": "code",
   "execution_count": 4,
   "id": "96e92bad-4577-4e49-a48f-ef442bef9d76",
   "metadata": {},
   "outputs": [
    {
     "name": "stdout",
     "output_type": "stream",
     "text": [
      "bench.ipynb  Benchmarks  README.md\n"
     ]
    }
   ],
   "source": [
    "!ls"
   ]
  },
  {
   "cell_type": "code",
   "execution_count": null,
   "id": "32aec1dc-f51e-49be-9a3c-08e81a906c09",
   "metadata": {},
   "outputs": [],
   "source": []
  }
 ],
 "metadata": {
  "kernelspec": {
   "display_name": "Python 3 (ipykernel)",
   "language": "python",
   "name": "python3"
  },
  "language_info": {
   "codemirror_mode": {
    "name": "ipython",
    "version": 3
   },
   "file_extension": ".py",
   "mimetype": "text/x-python",
   "name": "python",
   "nbconvert_exporter": "python",
   "pygments_lexer": "ipython3",
   "version": "3.10.6"
  }
 },
 "nbformat": 4,
 "nbformat_minor": 5
}
